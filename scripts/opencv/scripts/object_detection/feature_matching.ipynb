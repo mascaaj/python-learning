{
 "cells": [
  {
   "cell_type": "code",
   "execution_count": null,
   "metadata": {},
   "outputs": [],
   "source": [
    "import numpy as np\n",
    "import cv2\n",
    "import matplotlib.pyplot as plt\n",
    "%matplotlib inline\n",
    "\n",
    "def show_img(img,cmap='gray'):\n",
    "    fig = plt.figure(figsize=(15, 15))\n",
    "    ax = fig.add_subplot(111)\n",
    "    ax.imshow(img, cmap=cmap)"
   ]
  },
  {
   "cell_type": "code",
   "execution_count": null,
   "metadata": {},
   "outputs": [],
   "source": [
    "one_box = cv2.imread('../../data/reeses_puffs.png',0)\n",
    "# plt.imshow(one_box,cmap='gray')\n",
    "\n",
    "many_box = cv2.imread('../../data/many_cereals.jpg',0)\n",
    "plt.imshow(many_box,cmap='gray')"
   ]
  },
  {
   "cell_type": "markdown",
   "metadata": {},
   "source": [
    "## Oriented FAST and Rotated BRIEF (ORB)\n",
    "- Brute Force Matching\n",
    "- Distance metric"
   ]
  },
  {
   "cell_type": "code",
   "execution_count": null,
   "metadata": {},
   "outputs": [],
   "source": [
    "# Intantiate orb object\n",
    "orb = cv2.ORB_create()\n",
    "# compute features\n",
    "kp1,des1 = orb.detectAndCompute(one_box,None)\n",
    "kp2,des2 = orb.detectAndCompute(many_box,None)\n",
    "# match features : Brute Force\n",
    "bf = cv2.BFMatcher(cv2.NORM_HAMMING,crossCheck=True)\n",
    "matches = bf.match(des1,des2)\n",
    "matches[0]\n",
    "\n"
   ]
  },
  {
   "cell_type": "code",
   "execution_count": null,
   "metadata": {},
   "outputs": [],
   "source": [
    "# sorting key using lambda function that sorts based on distance member\n",
    "matches = sorted(matches,key=lambda x:x.distance)\n",
    "orb_matches = cv2.drawMatches(one_box,kp1,many_box,kp2,matches[:45],None,flags=2)\n",
    "show_img(orb_matches)"
   ]
  },
  {
   "cell_type": "markdown",
   "metadata": {},
   "source": [
    "# Scale invariant feature transform (SIFT)\n",
    "- Brute Force\n",
    "- KNN"
   ]
  },
  {
   "cell_type": "code",
   "execution_count": null,
   "metadata": {},
   "outputs": [],
   "source": [
    "sift = cv2.SIFT_create()\n",
    "# compute features\n",
    "kp1,des1 = sift.detectAndCompute(one_box,None)\n",
    "kp2,des2 = sift.detectAndCompute(many_box,None)\n",
    "# match features : Brute Force\n",
    "bf = cv2.BFMatcher()\n",
    "matches = bf.knnMatch(des1,des2,k=2)\n",
    "# len(des1)\n",
    "len(matches)"
   ]
  },
  {
   "cell_type": "code",
   "execution_count": null,
   "metadata": {},
   "outputs": [],
   "source": [
    "good = []\n",
    "for match1,match2 in matches:\n",
    "    if match1.distance < 0.6*match2.distance:\n",
    "        good.append([match1])\n",
    "# len(good)"
   ]
  },
  {
   "cell_type": "code",
   "execution_count": null,
   "metadata": {},
   "outputs": [],
   "source": [
    "sift_matches = cv2.drawMatchesKnn(one_box,kp1,many_box,kp2,good,None,flags=2)\n",
    "show_img(sift_matches)"
   ]
  },
  {
   "cell_type": "markdown",
   "metadata": {},
   "source": [
    "# Scale invariant feature transform (SIFT)\n",
    "- FLANN\n",
    "- KNN"
   ]
  },
  {
   "cell_type": "code",
   "execution_count": null,
   "metadata": {},
   "outputs": [],
   "source": [
    "sift = cv2.SIFT_create()\n",
    "# compute features\n",
    "kp1,des1 = sift.detectAndCompute(one_box,None)\n",
    "kp2,des2 = sift.detectAndCompute(many_box,None)\n",
    "# match features : FLANN\n",
    "FLANN_INDEX_KDTREE = 0 \n",
    "index_params = dict(algorithm = FLANN_INDEX_KDTREE,trees = 5)\n",
    "search_params = dict(checks = 50)\n"
   ]
  },
  {
   "cell_type": "code",
   "execution_count": null,
   "metadata": {},
   "outputs": [],
   "source": [
    "flann = cv2.FlannBasedMatcher(index_params,search_params)\n",
    "matches = flann.knnMatch(des1,des2,k=2)\n"
   ]
  },
  {
   "cell_type": "markdown",
   "metadata": {},
   "source": [
    "1. Create match mask, same length as matches, initialize to 0,0\n",
    "2. Replace good array, by matches mask, flag pass value to 1,0 in mask\n",
    "3. replace good array by matches, and pass in extra args as dict, along with color schema"
   ]
  },
  {
   "cell_type": "code",
   "execution_count": null,
   "metadata": {},
   "outputs": [],
   "source": [
    "# Mask for plotting accurate color of match / no match\n",
    "\n",
    "matchesMask = [[0,0] for i in range(len(matches))]\n",
    "len(matchesMask)"
   ]
  },
  {
   "cell_type": "code",
   "execution_count": null,
   "metadata": {},
   "outputs": [],
   "source": [
    "# good = []\n",
    "for i,(match1,match2) in enumerate(matches):\n",
    "    if match1.distance < 0.6*match2.distance:\n",
    "        matchesMask[i]= [1,0]\n",
    "        # good.append([match1])\n",
    "len(matchesMask)"
   ]
  },
  {
   "cell_type": "code",
   "execution_count": null,
   "metadata": {},
   "outputs": [],
   "source": [
    "draw_params = dict(matchColor = (0,255,0), \n",
    "                    singlePointColor=(255,0,0),\n",
    "                    matchesMask = matchesMask, \n",
    "                    flags = 0)"
   ]
  },
  {
   "cell_type": "code",
   "execution_count": null,
   "metadata": {},
   "outputs": [],
   "source": [
    "flann_matches = cv2.drawMatchesKnn(one_box,kp1,many_box,kp2,matches,None,**draw_params)\n",
    "show_img(flann_matches)"
   ]
  }
 ],
 "metadata": {
  "interpreter": {
   "hash": "20a970f85f87706f7428359d846c8ba9d545d7fda9dcaef761d10439a240591b"
  },
  "kernelspec": {
   "display_name": "Python 3.7.12 64-bit ('cvcourse': conda)",
   "language": "python",
   "name": "python3"
  },
  "language_info": {
   "codemirror_mode": {
    "name": "ipython",
    "version": 3
   },
   "file_extension": ".py",
   "mimetype": "text/x-python",
   "name": "python",
   "nbconvert_exporter": "python",
   "pygments_lexer": "ipython3",
   "version": "3.7.12"
  },
  "orig_nbformat": 4
 },
 "nbformat": 4,
 "nbformat_minor": 2
}
