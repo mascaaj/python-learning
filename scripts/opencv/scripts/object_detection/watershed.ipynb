{
 "cells": [
  {
   "cell_type": "code",
   "execution_count": null,
   "metadata": {},
   "outputs": [],
   "source": [
    "import numpy as np\n",
    "import cv2\n",
    "import matplotlib.pyplot as plt\n",
    "%matplotlib inline"
   ]
  },
  {
   "cell_type": "code",
   "execution_count": null,
   "metadata": {},
   "outputs": [],
   "source": [
    "coins = cv2.cvtColor(cv2.imread('../../data/pennies.jpg'),cv2.COLOR_BGR2RGB)\n",
    "plt.imshow(coins)\n"
   ]
  },
  {
   "cell_type": "code",
   "execution_count": null,
   "metadata": {},
   "outputs": [],
   "source": [
    "# blur\n",
    "blur_pennies =  cv2.medianBlur(coins,25)\n",
    "# grayscale \n",
    "gray_coins = cv2.cvtColor(blur_pennies,cv2.COLOR_RGB2GRAY)\n",
    "# threshold\n",
    "res,thresh = cv2.threshold(gray_coins,160,255,cv2.THRESH_BINARY_INV)\n",
    "plt.imshow(thresh,cmap='gray')\n"
   ]
  },
  {
   "cell_type": "code",
   "execution_count": null,
   "metadata": {},
   "outputs": [],
   "source": [
    "# Find Contours\n",
    "contours, heirarchy = cv2.findContours(thresh,cv2.RETR_CCOMP,cv2.CHAIN_APPROX_SIMPLE)\n",
    "for i in range(len(contours)):\n",
    "    if heirarchy[0][i][3] == -1:\n",
    "        cv2.drawContours(coins, contours, i, (255,0,0), 10)\n",
    "plt.imshow(coins,cmap=\"gray\")"
   ]
  },
  {
   "cell_type": "code",
   "execution_count": null,
   "metadata": {},
   "outputs": [],
   "source": [
    "# Attempt to erode before finding contours\n",
    "kernel = np.ones((7,7),dtype=np.uint8)\n",
    "erode_coins = cv2.erode(thresh,kernel,iterations=6)\n",
    "plt.imshow(erode_coins)\n"
   ]
  },
  {
   "cell_type": "markdown",
   "metadata": {},
   "source": [
    "# Watershed algorithm"
   ]
  },
  {
   "cell_type": "code",
   "execution_count": null,
   "metadata": {},
   "outputs": [],
   "source": [
    "# Read in image\n",
    "coins = cv2.cvtColor(cv2.imread('../../data/pennies.jpg'),cv2.COLOR_BGR2RGB)\n",
    "\n",
    "# blur. Large image, 0.8 ~ 1.2 % kernel\n",
    "blur_pennies =  cv2.medianBlur(coins,35)\n",
    "\n",
    "# grayscale \n",
    "gray_coins = cv2.cvtColor(blur_pennies,cv2.COLOR_RGB2GRAY)\n",
    "# plt.imshow(gray_coins,cmap='gray')\n",
    "\n",
    "# threshold (min to max, use otsu in conjunction with binary thresholding)\n",
    "res,thresh = cv2.threshold(gray_coins,0,255,cv2.THRESH_BINARY_INV+cv2.THRESH_OTSU)\n",
    "\n",
    "# noise removal\n",
    "kernel = np.ones((3,3),np.uint8)\n",
    "denoised = cv2.morphologyEx(thresh,cv2.MORPH_OPEN,kernel,iterations=2)\n",
    "# plt.imshow(denoised,cmap='gray')\n",
    "\n",
    "sure_bg = cv2.dilate(denoised,kernel,iterations=3)\n",
    "# plt.imshow(sure_bg,cmap='gray')"
   ]
  },
  {
   "cell_type": "code",
   "execution_count": null,
   "metadata": {},
   "outputs": [],
   "source": [
    "# Find seeds from the image, via distance transform.\n",
    "# distance from 0th value aka background \n",
    "\n",
    "dist_transform = cv2.distanceTransform(denoised,cv2.DIST_L2,5)\n",
    "\n",
    "# Threshold on the points found\n",
    "ret, sure_fg = cv2.threshold(dist_transform,230,255,cv2.THRESH_BINARY)\n",
    "plt.imshow(sure_fg,cmap='gray')\n"
   ]
  },
  {
   "cell_type": "code",
   "execution_count": null,
   "metadata": {},
   "outputs": [],
   "source": [
    "sure_fg = np.uint8(sure_fg)\n",
    "unknown =  cv2.subtract(denoised,sure_fg)\n",
    "plt.imshow(unknown,cmap='gray')"
   ]
  },
  {
   "cell_type": "code",
   "execution_count": null,
   "metadata": {},
   "outputs": [],
   "source": [
    "ret,markers = cv2.connectedComponents(sure_fg)\n",
    "markers = markers + 1\n",
    "markers[unknown==255] = 0\n",
    "plt.imshow(markers,cmap='gray')"
   ]
  },
  {
   "cell_type": "code",
   "execution_count": null,
   "metadata": {},
   "outputs": [],
   "source": [
    "watershed = cv2.watershed(coins,markers)\n",
    "plt.imshow(watershed, cmap='gray')"
   ]
  },
  {
   "cell_type": "code",
   "execution_count": null,
   "metadata": {},
   "outputs": [],
   "source": [
    "contours, heirarchy = cv2.findContours(watershed,cv2.RETR_CCOMP,cv2.CHAIN_APPROX_SIMPLE)\n",
    "for i in range(len(contours)):\n",
    "    if heirarchy[0][i][3] == -1:\n",
    "        cv2.drawContours(coins, contours, i, (255,0,0), 10)\n",
    "plt.imshow(coins,cmap=\"gray\")"
   ]
  }
 ],
 "metadata": {
  "interpreter": {
   "hash": "20a970f85f87706f7428359d846c8ba9d545d7fda9dcaef761d10439a240591b"
  },
  "kernelspec": {
   "display_name": "Python 3.7.12 64-bit ('cvcourse': conda)",
   "language": "python",
   "name": "python3"
  },
  "language_info": {
   "codemirror_mode": {
    "name": "ipython",
    "version": 3
   },
   "file_extension": ".py",
   "mimetype": "text/x-python",
   "name": "python",
   "nbconvert_exporter": "python",
   "pygments_lexer": "ipython3",
   "version": "3.7.12"
  },
  "orig_nbformat": 4
 },
 "nbformat": 4,
 "nbformat_minor": 2
}
