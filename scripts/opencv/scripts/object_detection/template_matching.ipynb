{
 "cells": [
  {
   "cell_type": "code",
   "execution_count": null,
   "metadata": {},
   "outputs": [],
   "source": [
    "import numpy as np\n",
    "import cv2\n",
    "import matplotlib.pyplot as plt\n",
    "%matplotlib inline"
   ]
  },
  {
   "cell_type": "code",
   "execution_count": null,
   "metadata": {},
   "outputs": [],
   "source": [
    "sammy = cv2.imread('../../data/sammy.jpg')\n",
    "sammy_corrected =  cv2.cvtColor(sammy,cv2.COLOR_BGR2RGB)\n",
    "plt.imshow(sammy_corrected)"
   ]
  },
  {
   "cell_type": "code",
   "execution_count": null,
   "metadata": {},
   "outputs": [],
   "source": [
    "sammy_face =  cv2.imread('../../data/sammy_face.jpg')\n",
    "sammy_face_corrected = cv2.cvtColor(sammy_face,cv2.COLOR_BGR2RGB)\n",
    "plt.imshow(sammy_face_corrected)"
   ]
  },
  {
   "cell_type": "code",
   "execution_count": null,
   "metadata": {},
   "outputs": [],
   "source": [
    "sammy_face_corrected.shape"
   ]
  },
  {
   "cell_type": "code",
   "execution_count": null,
   "metadata": {},
   "outputs": [],
   "source": [
    "sammy_corrected.shape"
   ]
  },
  {
   "cell_type": "code",
   "execution_count": null,
   "metadata": {},
   "outputs": [],
   "source": [
    "# All the 6 methods for comparison in a list\n",
    "# Note how we are using strings, later on we'll use the eval() function to convert to function\n",
    "methods = ['cv2.TM_CCOEFF', 'cv2.TM_CCOEFF_NORMED', 'cv2.TM_CCORR','cv2.TM_CCORR_NORMED', 'cv2.TM_SQDIFF', 'cv2.TM_SQDIFF_NORMED']"
   ]
  },
  {
   "cell_type": "code",
   "execution_count": null,
   "metadata": {},
   "outputs": [],
   "source": [
    "for m in methods:\n",
    "    sammy_corrected_copy = sammy_corrected.copy()\n",
    "    method = eval(m)\n",
    "    res = cv2.matchTemplate(sammy_corrected_copy,sammy_face_corrected,method)\n",
    "    min_val,max_val,min_loc,max_loc = cv2.minMaxLoc(res)\n",
    "    print(cv2.minMaxLoc(res))\n",
    "    if method in [ cv2.TM_SQDIFF, cv2.TM_SQDIFF_NORMED]:\n",
    "        top_left = min_loc\n",
    "    else:\n",
    "        top_left = max_loc\n",
    "    height,width,channels = sammy_face_corrected.shape\n",
    "    bottom_right = (top_left[0]+width,top_left[1]+height)\n",
    "    cv2.rectangle(sammy_corrected_copy,top_left,bottom_right,(255,0,0),10)\n",
    "    \n",
    "    plt.subplot(121)\n",
    "    plt.imshow(res)\n",
    "    plt.title(\"heatmap of template matching\")\n",
    "    \n",
    "    plt.subplot(122)\n",
    "    plt.imshow(sammy_corrected_copy)\n",
    "    plt.title(\"location of template matching\")\n",
    "\n",
    "    plt.suptitle(m)\n",
    "    plt.show()\n",
    "    print('\\n')\n",
    "    print('\\n')\n",
    "\n"
   ]
  },
  {
   "cell_type": "code",
   "execution_count": null,
   "metadata": {},
   "outputs": [],
   "source": [
    "res\n",
    "plt.imshow(res)"
   ]
  },
  {
   "cell_type": "code",
   "execution_count": null,
   "metadata": {},
   "outputs": [],
   "source": []
  }
 ],
 "metadata": {
  "interpreter": {
   "hash": "20a970f85f87706f7428359d846c8ba9d545d7fda9dcaef761d10439a240591b"
  },
  "kernelspec": {
   "display_name": "Python 3.7.12 64-bit ('cvcourse': conda)",
   "language": "python",
   "name": "python3"
  },
  "language_info": {
   "codemirror_mode": {
    "name": "ipython",
    "version": 3
   },
   "file_extension": ".py",
   "mimetype": "text/x-python",
   "name": "python",
   "nbconvert_exporter": "python",
   "pygments_lexer": "ipython3",
   "version": "3.7.12"
  },
  "orig_nbformat": 4
 },
 "nbformat": 4,
 "nbformat_minor": 2
}
