{
 "cells": [
  {
   "cell_type": "code",
   "execution_count": null,
   "metadata": {},
   "outputs": [],
   "source": [
    "import numpy as np\n",
    "import cv2\n",
    "import matplotlib.pyplot as plt\n",
    "%matplotlib inline"
   ]
  },
  {
   "cell_type": "code",
   "execution_count": null,
   "metadata": {},
   "outputs": [],
   "source": [
    "flat_chess = cv2.cvtColor(cv2.imread('../../data/flat_chessboard.png'),cv2.COLOR_BGR2RGB)\n",
    "plt.imshow(flat_chess)\n"
   ]
  },
  {
   "cell_type": "code",
   "execution_count": null,
   "metadata": {},
   "outputs": [],
   "source": [
    "gray_flat_chess = cv2.cvtColor(flat_chess, cv2.COLOR_BGR2GRAY)\n",
    "plt.imshow(gray_flat_chess,cmap='gray')"
   ]
  },
  {
   "cell_type": "code",
   "execution_count": null,
   "metadata": {},
   "outputs": [],
   "source": [
    "real_chess = cv2.cvtColor(cv2.imread('../../data/real_chessboard.jpg'),cv2.COLOR_BGR2RGB)\n",
    "plt.imshow(real_chess)"
   ]
  },
  {
   "cell_type": "code",
   "execution_count": null,
   "metadata": {},
   "outputs": [],
   "source": [
    "gray_real_chess = cv2.cvtColor(real_chess, cv2.COLOR_BGR2GRAY)\n",
    "plt.imshow(gray_real_chess,cmap='gray')"
   ]
  },
  {
   "cell_type": "markdown",
   "metadata": {},
   "source": [
    "# HARRIS CORNER DETECTION"
   ]
  },
  {
   "cell_type": "code",
   "execution_count": null,
   "metadata": {},
   "outputs": [],
   "source": [
    "# Harris corner detection needs floating point\n",
    "gray = np.float32(gray_flat_chess)\n",
    "dst = cv2.cornerHarris(gray,2,3,0.04)\n",
    "dst.max()\n"
   ]
  },
  {
   "cell_type": "code",
   "execution_count": null,
   "metadata": {},
   "outputs": [],
   "source": [
    "dst.min()"
   ]
  },
  {
   "cell_type": "code",
   "execution_count": null,
   "metadata": {},
   "outputs": [],
   "source": [
    "# Visualization, morphological operator to clean up viz\n",
    "dst = cv2.dilate(dst,None)\n",
    "plt.imshow(dst)"
   ]
  },
  {
   "cell_type": "code",
   "execution_count": null,
   "metadata": {},
   "outputs": [],
   "source": [
    "dst.max()\n",
    "\n",
    "# dst.min()\n"
   ]
  },
  {
   "cell_type": "code",
   "execution_count": null,
   "metadata": {},
   "outputs": [],
   "source": [
    "\n",
    "\n",
    "flat_chess[dst>0.01*dst.max()] = [255,0,0]\n",
    "plt.imshow(flat_chess)"
   ]
  },
  {
   "cell_type": "code",
   "execution_count": null,
   "metadata": {},
   "outputs": [],
   "source": [
    "real_chess = cv2.cvtColor(cv2.imread('../../data/real_chessboard.jpg'),cv2.COLOR_BGR2RGB)\n",
    "gray = np.float32(gray_real_chess)\n",
    "dst = cv2.cornerHarris(gray,3,3,0.2)\n",
    "print(dst.max(),dst.min())\n",
    "dst = cv2.dilate(dst,None)\n",
    "real_chess[dst>0.02*dst.max()] = [255,0,0]\n",
    "plt.imshow(real_chess)"
   ]
  },
  {
   "cell_type": "markdown",
   "metadata": {},
   "source": [
    "# SHI-TOMASI EDGE DETECTION"
   ]
  },
  {
   "cell_type": "code",
   "execution_count": null,
   "metadata": {},
   "outputs": [],
   "source": [
    "flat_chess = cv2.cvtColor(cv2.imread('../../data/flat_chessboard.png'),cv2.COLOR_BGR2RGB)\n",
    "gray_flat_chess = cv2.cvtColor(flat_chess, cv2.COLOR_BGR2GRAY)\n",
    "real_chess = cv2.cvtColor(cv2.imread('../../data/real_chessboard.jpg'),cv2.COLOR_BGR2RGB)\n",
    "gray_real_chess = cv2.cvtColor(real_chess, cv2.COLOR_BGR2GRAY)\n",
    "corners = cv2.goodFeaturesToTrack(gray_real_chess,100,0.01,10)\n",
    "corners = np.int0(corners)\n",
    "for i in corners:\n",
    "    x,y = i.ravel()\n",
    "    cv2.circle(real_chess,(x,y),3,(255,0,0),-1)\n",
    "plt.imshow(real_chess)"
   ]
  },
  {
   "cell_type": "code",
   "execution_count": null,
   "metadata": {},
   "outputs": [],
   "source": [
    "corners = cv2.goodFeaturesToTrack(gray_flat_chess,5,0.01,10)\n",
    "corners"
   ]
  },
  {
   "cell_type": "code",
   "execution_count": null,
   "metadata": {},
   "outputs": [],
   "source": [
    "corners = np.int0(corners)\n",
    "corners"
   ]
  },
  {
   "cell_type": "code",
   "execution_count": null,
   "metadata": {},
   "outputs": [],
   "source": [
    "for i in corners:\n",
    "    x,y = i.ravel()\n",
    "    cv2.circle(flat_chess,(x,y),3,(255,0,0),-1)\n",
    "plt.imshow(flat_chess)"
   ]
  }
 ],
 "metadata": {
  "interpreter": {
   "hash": "20a970f85f87706f7428359d846c8ba9d545d7fda9dcaef761d10439a240591b"
  },
  "kernelspec": {
   "display_name": "Python 3.7.12 64-bit ('cvcourse': conda)",
   "language": "python",
   "name": "python3"
  },
  "language_info": {
   "codemirror_mode": {
    "name": "ipython",
    "version": 3
   },
   "file_extension": ".py",
   "mimetype": "text/x-python",
   "name": "python",
   "nbconvert_exporter": "python",
   "pygments_lexer": "ipython3",
   "version": "3.7.12"
  },
  "orig_nbformat": 4
 },
 "nbformat": 4,
 "nbformat_minor": 2
}
