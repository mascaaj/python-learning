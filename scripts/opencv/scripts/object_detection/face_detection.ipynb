{
 "cells": [
  {
   "cell_type": "code",
   "execution_count": null,
   "metadata": {},
   "outputs": [],
   "source": [
    "import numpy as np\n",
    "import cv2\n",
    "import matplotlib.pyplot as plt\n",
    "%matplotlib inline"
   ]
  },
  {
   "cell_type": "code",
   "execution_count": null,
   "metadata": {},
   "outputs": [],
   "source": [
    "nadia = cv2.imread('../../data/Nadia_Murad.jpg',0)\n",
    "denis = cv2.imread('../../data/Denis_Mukwege.jpg',0)\n",
    "solvay = cv2.imread('../../data/solvay_conference.jpg',0)\n",
    "\n",
    "plt.imshow(solvay,cmap='gray')"
   ]
  },
  {
   "cell_type": "code",
   "execution_count": null,
   "metadata": {},
   "outputs": [],
   "source": [
    "face_classifier = cv2.CascadeClassifier('../../data/haarcascades/haarcascade_frontalface_default.xml')\n",
    "\n",
    "def detect_face(image):\n",
    "    face_img = image.copy()\n",
    "    faces = face_classifier.detectMultiScale(face_img)\n",
    "    for (x,y,w,h) in faces:\n",
    "        cv2.rectangle(face_img,(x,y),(x+w,y+h),(255,255,255),10)\n",
    "    return face_img\n"
   ]
  },
  {
   "cell_type": "code",
   "execution_count": null,
   "metadata": {},
   "outputs": [],
   "source": [
    "plt.imshow(detect_face(solvay),cmap='gray')"
   ]
  },
  {
   "cell_type": "code",
   "execution_count": null,
   "metadata": {},
   "outputs": [],
   "source": [
    "\n",
    "def adj_detect_face(image):\n",
    "    face_img = image.copy()\n",
    "    faces = face_classifier.detectMultiScale(face_img,scaleFactor=1.165,minNeighbors=3)\n",
    "    for (x,y,w,h) in faces:\n",
    "        cv2.rectangle(face_img,(x,y),(x+w,y+h),(255,255,255),10)\n",
    "    return face_img\n",
    "\n",
    "plt.imshow(adj_detect_face(solvay),cmap='gray')"
   ]
  },
  {
   "cell_type": "code",
   "execution_count": null,
   "metadata": {},
   "outputs": [],
   "source": [
    "\n",
    "eye_classifier = cv2.CascadeClassifier('../../data/haarcascades/haarcascade_eye.xml')\n",
    "\n",
    "def detect_eye(image):\n",
    "    face_img = image.copy()\n",
    "    faces = eye_classifier.detectMultiScale(face_img)\n",
    "    for (x,y,w,h) in faces:\n",
    "        cv2.rectangle(face_img,(x,y),(x+w,y+h),(255,255,255),10)\n",
    "    return face_img\n",
    "plt.imshow(detect_eye(nadia),cmap='gray')"
   ]
  }
 ],
 "metadata": {
  "interpreter": {
   "hash": "20a970f85f87706f7428359d846c8ba9d545d7fda9dcaef761d10439a240591b"
  },
  "kernelspec": {
   "display_name": "Python 3.7.12 64-bit ('cvcourse': conda)",
   "language": "python",
   "name": "python3"
  },
  "language_info": {
   "codemirror_mode": {
    "name": "ipython",
    "version": 3
   },
   "file_extension": ".py",
   "mimetype": "text/x-python",
   "name": "python",
   "nbconvert_exporter": "python",
   "pygments_lexer": "ipython3",
   "version": "3.7.12"
  },
  "orig_nbformat": 4
 },
 "nbformat": 4,
 "nbformat_minor": 2
}
