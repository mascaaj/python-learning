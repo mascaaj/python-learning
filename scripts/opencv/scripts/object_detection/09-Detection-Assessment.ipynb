{
 "cells": [
  {
   "cell_type": "markdown",
   "metadata": {},
   "source": [
    "<a href=\"https://www.pieriandata.com\"><img src=\"../DATA/Logo.jpg\"></a>\n",
    "*Copyright by Pierian Data Inc.*"
   ]
  },
  {
   "cell_type": "markdown",
   "metadata": {},
   "source": [
    "# Object Detection Assessment Project Exercise\n",
    "\n",
    "## Russian License Plate Blurring\n",
    "\n",
    "Welcome to your object detection project! Your goal will be to use Haar Cascades to blur license plates detected in an image!\n",
    "\n",
    "Russians are famous for having some of the most entertaining DashCam footage on the internet (I encourage you to Google Search \"Russian DashCam\"). Unfortunately a lot of the footage contains license plates, perhaps we could help out and create a license plat blurring tool?\n",
    "\n",
    "OpenCV comes with a Russian license plate detector .xml file that we can use like we used the face detection files (unfortunately, it does not come with license detectors for other countries!)\n",
    "\n",
    "----\n",
    "\n",
    "\n",
    "#### 3 Ways to Approach this project:\n",
    "* Just go for it! Use the image under the DATA folder called car_plate.jpg and create a function that will blur the image of its license plate. Check out the Haar Cascades folder for the correct pre-trained .xml file to use.\n",
    "* Use this notebook! Here we offer a guide of what main steps you should take to complete the project.\n",
    "* Jump to the solutions notebook and video to treat this entire project as code-along project where you can code along with us.\n",
    "\n",
    "## Project Guide\n",
    "\n",
    "Follow and complete the tasks below to finish the project!"
   ]
  },
  {
   "cell_type": "markdown",
   "metadata": {},
   "source": [
    "**TASK: Import the usual libraries you think you'll need.**"
   ]
  },
  {
   "cell_type": "code",
   "execution_count": null,
   "metadata": {},
   "outputs": [],
   "source": [
    "import cv2\n",
    "import numpy as np\n",
    "import matplotlib.pyplot as plt\n",
    "%matplotlib inline"
   ]
  },
  {
   "cell_type": "markdown",
   "metadata": {},
   "source": [
    "**TASK: Read in the car_plate.jpg file from the DATA folder.**"
   ]
  },
  {
   "cell_type": "code",
   "execution_count": null,
   "metadata": {},
   "outputs": [],
   "source": [
    "licence = cv2.imread('../../data/car_plate.jpg')\n",
    "licence = cv2.cvtColor(licence,cv2.COLOR_BGR2RGB)"
   ]
  },
  {
   "cell_type": "markdown",
   "metadata": {},
   "source": [
    "**TASK: Create a function that displays the image in a larger scale and correct coloring for matplotlib.**"
   ]
  },
  {
   "cell_type": "code",
   "execution_count": null,
   "metadata": {},
   "outputs": [],
   "source": [
    "def display(img):\n",
    "    fig = plt.figure(figsize=(15, 15))\n",
    "    ax = fig.add_subplot(111)\n",
    "    ax.imshow(img, cmap='gray')"
   ]
  },
  {
   "cell_type": "code",
   "execution_count": null,
   "metadata": {},
   "outputs": [],
   "source": [
    "display(licence)"
   ]
  },
  {
   "cell_type": "markdown",
   "metadata": {},
   "source": [
    "**TASK: Load the haarcascade_russian_plate_number.xml file.**"
   ]
  },
  {
   "cell_type": "code",
   "execution_count": null,
   "metadata": {},
   "outputs": [],
   "source": [
    "licence_detector = cv2.CascadeClassifier('../../data/haarcascades/haarcascade_russian_plate_number.xml')"
   ]
  },
  {
   "cell_type": "markdown",
   "metadata": {},
   "source": [
    "**TASK: Create a function that takes in an image and draws a rectangle around what it detects to be a license plate. Keep in mind we're just drawing a rectangle around it for now, later on we'll adjust this function to blur. You may want to play with the scaleFactor and minNeighbor numbers to get good results.**"
   ]
  },
  {
   "cell_type": "code",
   "execution_count": null,
   "metadata": {},
   "outputs": [],
   "source": [
    "def detect_plate(img):\n",
    "    licence_img = img.copy()\n",
    "    licence_location = licence_detector.detectMultiScale(licence_img, scaleFactor=1.2)\n",
    "    for (x,y,w,h) in licence_location:\n",
    "        cv2.rectangle(licence_img,(x,y),(x+w,y+h),(255,0,0),3)\n",
    "    return licence_img\n",
    "\n",
    "display(detect_plate(licence))"
   ]
  },
  {
   "cell_type": "markdown",
   "metadata": {},
   "source": [
    "**FINAL TASK: Edit the function so that is effectively blurs the detected plate, instead of just drawing a rectangle around it. Here are the steps you might want to take:**\n",
    "\n",
    "1. The hardest part is converting the (x,y,w,h) information into the dimension values you need to grab an ROI (somethign we covered in the lecture 01-Blending-and-Pasting-Images. It's simply [Numpy Slicing](https://stackoverflow.com/questions/15589517/how-to-crop-an-image-in-opencv-using-python), you just need to convert the information about the top left corner of the rectangle and width and height, into indexing position values.\n",
    "2. Once you've grabbed the ROI using the (x,y,w,h) values returned, you'll want to blur that ROI. You can use cv2.medianBlur for this.\n",
    "3. Now that you have a blurred version of the ROI (the license plate) you will want to paste this blurred image back on to the original image at the same original location. Simply using Numpy indexing and slicing to reassign that area of the original image to the blurred roi."
   ]
  },
  {
   "cell_type": "code",
   "execution_count": null,
   "metadata": {},
   "outputs": [],
   "source": [
    "def detect_and_blur_plate(img):\n",
    "    licence_img = img.copy()\n",
    "    (x,y,w,h) = tuple(licence_detector.detectMultiScale(licence_img, scaleFactor=1.2).ravel())\n",
    "    licence_slice =  licence_img[y:y+h,x:x+w,:]\n",
    "    blur_slice = cv2.medianBlur(licence_slice,7)\n",
    "    licence_img[y:y+h,x:x+w,:] = blur_slice\n",
    "    return licence_img\n",
    "    "
   ]
  },
  {
   "cell_type": "code",
   "execution_count": null,
   "metadata": {},
   "outputs": [],
   "source": [
    "result = detect_and_blur_plate(licence)\n",
    "display(result)\n"
   ]
  },
  {
   "cell_type": "code",
   "execution_count": null,
   "metadata": {},
   "outputs": [],
   "source": [
    "display(licence)"
   ]
  },
  {
   "cell_type": "code",
   "execution_count": null,
   "metadata": {},
   "outputs": [],
   "source": [
    "display(result)"
   ]
  },
  {
   "cell_type": "markdown",
   "metadata": {},
   "source": [
    "# Great Job!"
   ]
  }
 ],
 "metadata": {
  "kernelspec": {
   "display_name": "Python 3",
   "language": "python",
   "name": "python3"
  },
  "language_info": {
   "codemirror_mode": {
    "name": "ipython",
    "version": 3
   },
   "file_extension": ".py",
   "mimetype": "text/x-python",
   "name": "python",
   "nbconvert_exporter": "python",
   "pygments_lexer": "ipython3",
   "version": "3.7.12"
  }
 },
 "nbformat": 4,
 "nbformat_minor": 2
}
