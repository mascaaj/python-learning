{
 "cells": [
  {
   "cell_type": "code",
   "execution_count": 2,
   "metadata": {},
   "outputs": [],
   "source": [
    "import numpy as np\n",
    "# Preprocessing ala sklearn\n",
    "from sklearn.model_selection import train_test_split\n",
    "from sklearn.preprocessing import MinMaxScaler\n",
    "# learning ala tensorflow.keras\n",
    "from tensorflow.keras.models import Sequential\n",
    "from tensorflow.keras.layers import Dense,InputLayer\n",
    "from tensorflow.keras.losses import MeanSquaredError\n",
    "from sklearn.metrics import confusion_matrix,classification_report\n"
   ]
  },
  {
   "cell_type": "code",
   "execution_count": 3,
   "metadata": {},
   "outputs": [
    {
     "data": {
      "text/plain": [
       "array([[  3.6216 ,   8.6661 ,  -2.8073 ,  -0.44699,   0.     ],\n",
       "       [  4.5459 ,   8.1674 ,  -2.4586 ,  -1.4621 ,   0.     ],\n",
       "       [  3.866  ,  -2.6383 ,   1.9242 ,   0.10645,   0.     ],\n",
       "       ...,\n",
       "       [ -3.7503 , -13.4586 ,  17.5932 ,  -2.7771 ,   1.     ],\n",
       "       [ -3.5637 ,  -8.3827 ,  12.393  ,  -1.2823 ,   1.     ],\n",
       "       [ -2.5419 ,  -0.65804,   2.6842 ,   1.1952 ,   1.     ]])"
      ]
     },
     "execution_count": 3,
     "metadata": {},
     "output_type": "execute_result"
    }
   ],
   "source": [
    "data = np.genfromtxt(\"../../data/bank_note_data.txt\",delimiter=\",\")\n",
    "data"
   ]
  },
  {
   "cell_type": "code",
   "execution_count": 4,
   "metadata": {},
   "outputs": [],
   "source": [
    "# Split data and predictions\n",
    "# y is truth\n",
    "# X is data\n",
    "y = data[:,4]\n",
    "X = data[:,:4]\n"
   ]
  },
  {
   "cell_type": "markdown",
   "metadata": {},
   "source": [
    "Split data"
   ]
  },
  {
   "cell_type": "code",
   "execution_count": 5,
   "metadata": {},
   "outputs": [
    {
     "name": "stdout",
     "output_type": "stream",
     "text": [
      "17.9274 -13.7731\n"
     ]
    }
   ],
   "source": [
    "X_train, X_test, y_train, y_test = train_test_split(X, y, test_size=0.33, random_state=42)\n",
    "print(X_train.max(),X_train.min())"
   ]
  },
  {
   "cell_type": "markdown",
   "metadata": {},
   "source": [
    "Process Data"
   ]
  },
  {
   "cell_type": "code",
   "execution_count": 6,
   "metadata": {},
   "outputs": [
    {
     "name": "stdout",
     "output_type": "stream",
     "text": [
      "1.0000000000000002 0.0\n"
     ]
    }
   ],
   "source": [
    "# Constructor\n",
    "scaler_object = MinMaxScaler(feature_range=(0,1),copy=True)\n",
    "# Fit method\n",
    "scaler_object.fit(X_train)\n",
    "scaled_x_train = scaler_object.transform(X_train)\n",
    "scaled_x_test = scaler_object.transform(X_test)\n",
    "print(scaled_x_train.max(),scaled_x_train.min())\n"
   ]
  },
  {
   "cell_type": "markdown",
   "metadata": {},
   "source": [
    "Train"
   ]
  },
  {
   "cell_type": "code",
   "execution_count": 7,
   "metadata": {},
   "outputs": [
    {
     "name": "stderr",
     "output_type": "stream",
     "text": [
      "2021-12-31 11:16:48.249878: I tensorflow/core/common_runtime/process_util.cc:146] Creating new thread pool with default inter op setting: 2. Tune using inter_op_parallelism_threads for best performance.\n"
     ]
    }
   ],
   "source": [
    "model = Sequential()\n",
    "model.add(Dense(4,input_dim=4,activation='relu'))\n",
    "model.add(Dense(8,activation='relu'))\n",
    "model.add(Dense(1,activation='sigmoid'))\n"
   ]
  },
  {
   "cell_type": "code",
   "execution_count": 8,
   "metadata": {},
   "outputs": [],
   "source": [
    "model.compile(loss='binary_crossentropy',optimizer='adam',metrics=['accuracy'])"
   ]
  },
  {
   "cell_type": "code",
   "execution_count": 9,
   "metadata": {},
   "outputs": [
    {
     "name": "stderr",
     "output_type": "stream",
     "text": [
      "2021-12-31 11:16:50.650316: I tensorflow/compiler/mlir/mlir_graph_optimization_pass.cc:176] None of the MLIR Optimization Passes are enabled (registered 2)\n",
      "2021-12-31 11:16:50.651240: I tensorflow/core/platform/profile_utils/cpu_utils.cc:114] CPU Frequency: 54000000 Hz\n"
     ]
    },
    {
     "name": "stdout",
     "output_type": "stream",
     "text": [
      "Epoch 1/50\n",
      "29/29 [==============================] - 3s 4ms/step - loss: nan - accuracy: 0.5375\n",
      "Epoch 2/50\n",
      "29/29 [==============================] - 0s 4ms/step - loss: nan - accuracy: 0.5495\n",
      "Epoch 3/50\n",
      "29/29 [==============================] - 0s 4ms/step - loss: nan - accuracy: 0.5495\n",
      "Epoch 4/50\n",
      "29/29 [==============================] - 0s 4ms/step - loss: nan - accuracy: 0.5495\n",
      "Epoch 5/50\n",
      "29/29 [==============================] - 0s 4ms/step - loss: nan - accuracy: 0.5495\n",
      "Epoch 6/50\n",
      "29/29 [==============================] - 0s 4ms/step - loss: nan - accuracy: 0.5495\n",
      "Epoch 7/50\n",
      "29/29 [==============================] - 0s 4ms/step - loss: nan - accuracy: 0.5495\n",
      "Epoch 8/50\n",
      "29/29 [==============================] - 0s 4ms/step - loss: nan - accuracy: 0.5495\n",
      "Epoch 9/50\n",
      "29/29 [==============================] - 0s 5ms/step - loss: nan - accuracy: 0.5495\n",
      "Epoch 10/50\n",
      "29/29 [==============================] - 0s 5ms/step - loss: nan - accuracy: 0.5495\n",
      "Epoch 11/50\n",
      "29/29 [==============================] - 0s 4ms/step - loss: nan - accuracy: 0.5495\n",
      "Epoch 12/50\n",
      "29/29 [==============================] - 0s 4ms/step - loss: nan - accuracy: 0.5495\n",
      "Epoch 13/50\n",
      "29/29 [==============================] - 0s 4ms/step - loss: nan - accuracy: 0.5495\n",
      "Epoch 14/50\n",
      "29/29 [==============================] - 0s 4ms/step - loss: nan - accuracy: 0.5495\n",
      "Epoch 15/50\n",
      "29/29 [==============================] - 0s 4ms/step - loss: nan - accuracy: 0.5495\n",
      "Epoch 16/50\n",
      "29/29 [==============================] - 0s 4ms/step - loss: nan - accuracy: 0.5495\n",
      "Epoch 17/50\n",
      "29/29 [==============================] - 0s 5ms/step - loss: nan - accuracy: 0.5495\n",
      "Epoch 18/50\n",
      "29/29 [==============================] - 0s 5ms/step - loss: nan - accuracy: 0.5495\n",
      "Epoch 19/50\n",
      "29/29 [==============================] - 0s 4ms/step - loss: nan - accuracy: 0.5495\n",
      "Epoch 20/50\n",
      "29/29 [==============================] - 0s 5ms/step - loss: nan - accuracy: 0.5495\n",
      "Epoch 21/50\n",
      "29/29 [==============================] - 0s 4ms/step - loss: nan - accuracy: 0.5495\n",
      "Epoch 22/50\n",
      "29/29 [==============================] - 0s 4ms/step - loss: nan - accuracy: 0.5495\n",
      "Epoch 23/50\n",
      "29/29 [==============================] - 0s 5ms/step - loss: nan - accuracy: 0.5495\n",
      "Epoch 24/50\n",
      "29/29 [==============================] - 0s 5ms/step - loss: nan - accuracy: 0.5495\n",
      "Epoch 25/50\n",
      "29/29 [==============================] - 0s 4ms/step - loss: nan - accuracy: 0.5495\n",
      "Epoch 26/50\n",
      "29/29 [==============================] - 0s 5ms/step - loss: nan - accuracy: 0.5495\n",
      "Epoch 27/50\n",
      "29/29 [==============================] - 0s 5ms/step - loss: nan - accuracy: 0.5495\n",
      "Epoch 28/50\n",
      "29/29 [==============================] - 0s 5ms/step - loss: nan - accuracy: 0.5495\n",
      "Epoch 29/50\n",
      "29/29 [==============================] - 0s 5ms/step - loss: nan - accuracy: 0.5495\n",
      "Epoch 30/50\n",
      "29/29 [==============================] - 0s 4ms/step - loss: nan - accuracy: 0.5495\n",
      "Epoch 31/50\n",
      "29/29 [==============================] - 0s 4ms/step - loss: nan - accuracy: 0.5495\n",
      "Epoch 32/50\n",
      "29/29 [==============================] - 0s 4ms/step - loss: nan - accuracy: 0.5495\n",
      "Epoch 33/50\n",
      "29/29 [==============================] - 0s 5ms/step - loss: nan - accuracy: 0.5495\n",
      "Epoch 34/50\n",
      "29/29 [==============================] - 0s 5ms/step - loss: nan - accuracy: 0.5495\n",
      "Epoch 35/50\n",
      "29/29 [==============================] - 0s 5ms/step - loss: nan - accuracy: 0.5495A: 0s - loss: nan - accuracy: 0.55\n",
      "Epoch 36/50\n",
      "29/29 [==============================] - 0s 5ms/step - loss: nan - accuracy: 0.5495\n",
      "Epoch 37/50\n",
      "29/29 [==============================] - 0s 4ms/step - loss: nan - accuracy: 0.5495\n",
      "Epoch 38/50\n",
      "29/29 [==============================] - 0s 5ms/step - loss: nan - accuracy: 0.5495\n",
      "Epoch 39/50\n",
      "29/29 [==============================] - 0s 5ms/step - loss: nan - accuracy: 0.5495\n",
      "Epoch 40/50\n",
      "29/29 [==============================] - 0s 5ms/step - loss: nan - accuracy: 0.5495A: 0s - loss: nan - accuracy: 0.56\n",
      "Epoch 41/50\n",
      "29/29 [==============================] - 0s 4ms/step - loss: nan - accuracy: 0.5495\n",
      "Epoch 42/50\n",
      "29/29 [==============================] - 0s 4ms/step - loss: nan - accuracy: 0.5495\n",
      "Epoch 43/50\n",
      "29/29 [==============================] - 0s 5ms/step - loss: nan - accuracy: 0.5495\n",
      "Epoch 44/50\n",
      "29/29 [==============================] - 0s 5ms/step - loss: nan - accuracy: 0.5495A: 0s - loss: nan - accuracy: 0.54\n",
      "Epoch 45/50\n",
      "29/29 [==============================] - 0s 4ms/step - loss: nan - accuracy: 0.5495\n",
      "Epoch 46/50\n",
      "29/29 [==============================] - 0s 5ms/step - loss: nan - accuracy: 0.5495\n",
      "Epoch 47/50\n",
      "29/29 [==============================] - 0s 5ms/step - loss: nan - accuracy: 0.5495\n",
      "Epoch 48/50\n",
      "29/29 [==============================] - 0s 5ms/step - loss: nan - accuracy: 0.5495\n",
      "Epoch 49/50\n",
      "29/29 [==============================] - 0s 4ms/step - loss: nan - accuracy: 0.5495\n",
      "Epoch 50/50\n",
      "29/29 [==============================] - 0s 4ms/step - loss: nan - accuracy: 0.5495\n"
     ]
    },
    {
     "data": {
      "text/plain": [
       "<tensorflow.python.keras.callbacks.History at 0xffff4cb4f490>"
      ]
     },
     "execution_count": 9,
     "metadata": {},
     "output_type": "execute_result"
    }
   ],
   "source": [
    "model.fit(scaled_x_train,y_train,epochs=50,verbose=1)"
   ]
  },
  {
   "cell_type": "markdown",
   "metadata": {},
   "source": [
    "Test"
   ]
  },
  {
   "cell_type": "code",
   "execution_count": 10,
   "metadata": {},
   "outputs": [
    {
     "name": "stderr",
     "output_type": "stream",
     "text": [
      "/home/ubuntu/miniconda3/envs/cvcourse/lib/python3.7/site-packages/tensorflow/python/keras/engine/sequential.py:455: UserWarning: `model.predict_classes()` is deprecated and will be removed after 2021-01-01. Please use instead:* `np.argmax(model.predict(x), axis=-1)`,   if your model does multi-class classification   (e.g. if it uses a `softmax` last-layer activation).* `(model.predict(x) > 0.5).astype(\"int32\")`,   if your model does binary classification   (e.g. if it uses a `sigmoid` last-layer activation).\n",
      "  warnings.warn('`model.predict_classes()` is deprecated and '\n"
     ]
    }
   ],
   "source": [
    "predictions = model.predict_classes(scaled_x_test)"
   ]
  },
  {
   "cell_type": "markdown",
   "metadata": {},
   "source": [
    "Metrics"
   ]
  },
  {
   "cell_type": "code",
   "execution_count": 11,
   "metadata": {},
   "outputs": [
    {
     "data": {
      "text/plain": [
       "array([[257,   0],\n",
       "       [196,   0]])"
      ]
     },
     "execution_count": 11,
     "metadata": {},
     "output_type": "execute_result"
    }
   ],
   "source": [
    "confusion_matrix(y_test,predictions)"
   ]
  },
  {
   "cell_type": "code",
   "execution_count": 12,
   "metadata": {},
   "outputs": [
    {
     "name": "stdout",
     "output_type": "stream",
     "text": [
      "              precision    recall  f1-score   support\n",
      "\n",
      "         0.0       0.57      1.00      0.72       257\n",
      "         1.0       0.00      0.00      0.00       196\n",
      "\n",
      "    accuracy                           0.57       453\n",
      "   macro avg       0.28      0.50      0.36       453\n",
      "weighted avg       0.32      0.57      0.41       453\n",
      "\n"
     ]
    },
    {
     "name": "stderr",
     "output_type": "stream",
     "text": [
      "/home/ubuntu/miniconda3/envs/cvcourse/lib/python3.7/site-packages/sklearn/metrics/_classification.py:1308: UndefinedMetricWarning: Precision and F-score are ill-defined and being set to 0.0 in labels with no predicted samples. Use `zero_division` parameter to control this behavior.\n",
      "  _warn_prf(average, modifier, msg_start, len(result))\n",
      "/home/ubuntu/miniconda3/envs/cvcourse/lib/python3.7/site-packages/sklearn/metrics/_classification.py:1308: UndefinedMetricWarning: Precision and F-score are ill-defined and being set to 0.0 in labels with no predicted samples. Use `zero_division` parameter to control this behavior.\n",
      "  _warn_prf(average, modifier, msg_start, len(result))\n",
      "/home/ubuntu/miniconda3/envs/cvcourse/lib/python3.7/site-packages/sklearn/metrics/_classification.py:1308: UndefinedMetricWarning: Precision and F-score are ill-defined and being set to 0.0 in labels with no predicted samples. Use `zero_division` parameter to control this behavior.\n",
      "  _warn_prf(average, modifier, msg_start, len(result))\n"
     ]
    }
   ],
   "source": [
    "print(classification_report(y_test,predictions))"
   ]
  },
  {
   "cell_type": "code",
   "execution_count": null,
   "metadata": {},
   "outputs": [],
   "source": []
  }
 ],
 "metadata": {
  "interpreter": {
   "hash": "20a970f85f87706f7428359d846c8ba9d545d7fda9dcaef761d10439a240591b"
  },
  "kernelspec": {
   "display_name": "Python 3.7.12 64-bit ('cvcourse': conda)",
   "language": "python",
   "name": "python3"
  },
  "language_info": {
   "codemirror_mode": {
    "name": "ipython",
    "version": 3
   },
   "file_extension": ".py",
   "mimetype": "text/x-python",
   "name": "python",
   "nbconvert_exporter": "python",
   "pygments_lexer": "ipython3",
   "version": "3.7.12"
  },
  "orig_nbformat": 4
 },
 "nbformat": 4,
 "nbformat_minor": 2
}
